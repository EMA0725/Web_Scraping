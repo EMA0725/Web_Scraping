{
 "cells": [
  {
   "cell_type": "code",
   "execution_count": 2,
   "id": "b1d3f5ed",
   "metadata": {},
   "outputs": [
    {
     "name": "stdout",
     "output_type": "stream",
     "text": [
      "Collecting autoscraper\n",
      "  Downloading autoscraper-1.1.14-py3-none-any.whl (10 kB)\n",
      "Note: you may need to restart the kernel to use updated packages.Requirement already satisfied: bs4 in c:\\users\\vipul.choudhary\\anaconda3\\lib\\site-packages (from autoscraper) (0.0.1)\n",
      "\n",
      "Requirement already satisfied: requests in c:\\users\\vipul.choudhary\\anaconda3\\lib\\site-packages (from autoscraper) (2.25.1)\n",
      "Requirement already satisfied: lxml in c:\\users\\vipul.choudhary\\anaconda3\\lib\\site-packages (from autoscraper) (4.6.3)\n",
      "Requirement already satisfied: beautifulsoup4 in c:\\users\\vipul.choudhary\\anaconda3\\lib\\site-packages (from bs4->autoscraper) (4.9.3)\n",
      "Requirement already satisfied: soupsieve>1.2 in c:\\users\\vipul.choudhary\\anaconda3\\lib\\site-packages (from beautifulsoup4->bs4->autoscraper) (2.2.1)\n",
      "Requirement already satisfied: idna<3,>=2.5 in c:\\users\\vipul.choudhary\\anaconda3\\lib\\site-packages (from requests->autoscraper) (2.10)\n",
      "Requirement already satisfied: chardet<5,>=3.0.2 in c:\\users\\vipul.choudhary\\anaconda3\\lib\\site-packages (from requests->autoscraper) (3.0.4)\n",
      "Requirement already satisfied: urllib3<1.27,>=1.21.1 in c:\\users\\vipul.choudhary\\anaconda3\\lib\\site-packages (from requests->autoscraper) (1.26.4)\n",
      "Requirement already satisfied: certifi>=2017.4.17 in c:\\users\\vipul.choudhary\\anaconda3\\lib\\site-packages (from requests->autoscraper) (2020.12.5)\n",
      "Installing collected packages: autoscraper\n",
      "Successfully installed autoscraper-1.1.14\n"
     ]
    }
   ],
   "source": [
    "pip install autoscraper\n"
   ]
  },
  {
   "cell_type": "code",
   "execution_count": 5,
   "id": "9ad651b5",
   "metadata": {},
   "outputs": [],
   "source": [
    "#BooksByCategoryScraper.py\n",
    "from autoscraper import AutoScraper\n",
    "import pandas as pd"
   ]
  },
  {
   "cell_type": "code",
   "execution_count": 6,
   "id": "295405ba",
   "metadata": {},
   "outputs": [
    {
     "data": {
      "text/plain": [
       "['https://books.toscrape.com/catalogue/its-only-the-himalayas_981/index.html',\n",
       " 'https://books.toscrape.com/catalogue/full-moon-over-noahs-ark-an-odyssey-to-mount-ararat-and-beyond_811/index.html',\n",
       " 'https://books.toscrape.com/catalogue/see-america-a-celebration-of-our-national-parks-treasured-sites_732/index.html',\n",
       " 'https://books.toscrape.com/catalogue/vagabonding-an-uncommon-guide-to-the-art-of-long-term-world-travel_552/index.html',\n",
       " 'https://books.toscrape.com/catalogue/under-the-tuscan-sun_504/index.html',\n",
       " 'https://books.toscrape.com/catalogue/a-summer-in-europe_458/index.html',\n",
       " 'https://books.toscrape.com/catalogue/the-great-railway-bazaar_446/index.html',\n",
       " 'https://books.toscrape.com/catalogue/a-year-in-provence-provence-1_421/index.html',\n",
       " 'https://books.toscrape.com/catalogue/the-road-to-little-dribbling-adventures-of-an-american-in-britain-notes-from-a-small-island-2_277/index.html',\n",
       " 'https://books.toscrape.com/catalogue/neither-here-nor-there-travels-in-europe_198/index.html',\n",
       " 'https://books.toscrape.com/catalogue/1000-places-to-see-before-you-die_1/index.html']"
      ]
     },
     "execution_count": 6,
     "metadata": {},
     "output_type": "execute_result"
    }
   ],
   "source": [
    " \n",
    "#BooksUrlScraper section\n",
    "TravelCategoryLink = 'https://books.toscrape.com/catalogue/category/books/travel_2/index.html'\n",
    "\n",
    "WantedList=[\"https://books.toscrape.com/catalogue/its-only-the-himalayas_981/index.html\"]\n",
    "\n",
    "BooksUrlScraper = AutoScraper()\n",
    "BooksUrlScraper.build(TravelCategoryLink, wanted_list=WantedList)"
   ]
  },
  {
   "cell_type": "code",
   "execution_count": 7,
   "id": "3ac689ac",
   "metadata": {},
   "outputs": [],
   "source": [
    " \n",
    "#BookInfoScraper section\n",
    "BookPageUrl = \"https://books.toscrape.com/catalogue/its-only-the-himalayas_981/index.html\" \n",
    "WantedList=[\"It's Only the Himalayas\", \"£45.17\"]\n",
    " "
   ]
  },
  {
   "cell_type": "code",
   "execution_count": 8,
   "id": "c4891ca9",
   "metadata": {},
   "outputs": [
    {
     "data": {
      "text/plain": [
       "[\"It's Only the Himalayas\",\n",
       " 'a22124811bfa8350',\n",
       " 'Books',\n",
       " '£45.17',\n",
       " '£0.00',\n",
       " 'In stock (19 available)',\n",
       " '0']"
      ]
     },
     "execution_count": 8,
     "metadata": {},
     "output_type": "execute_result"
    }
   ],
   "source": [
    "BookInfoScraper = AutoScraper()\n",
    "BookInfoScraper.build(BookPageUrl, wanted_list=WantedList)\n",
    " "
   ]
  },
  {
   "cell_type": "code",
   "execution_count": 11,
   "id": "8fdd6cac",
   "metadata": {},
   "outputs": [
    {
     "data": {
      "text/plain": [
       "['https://books.toscrape.com/catalogue/its-only-the-himalayas_981/index.html',\n",
       " 'https://books.toscrape.com/catalogue/full-moon-over-noahs-ark-an-odyssey-to-mount-ararat-and-beyond_811/index.html',\n",
       " 'https://books.toscrape.com/catalogue/see-america-a-celebration-of-our-national-parks-treasured-sites_732/index.html',\n",
       " 'https://books.toscrape.com/catalogue/vagabonding-an-uncommon-guide-to-the-art-of-long-term-world-travel_552/index.html',\n",
       " 'https://books.toscrape.com/catalogue/under-the-tuscan-sun_504/index.html',\n",
       " 'https://books.toscrape.com/catalogue/a-summer-in-europe_458/index.html',\n",
       " 'https://books.toscrape.com/catalogue/the-great-railway-bazaar_446/index.html',\n",
       " 'https://books.toscrape.com/catalogue/a-year-in-provence-provence-1_421/index.html',\n",
       " 'https://books.toscrape.com/catalogue/the-road-to-little-dribbling-adventures-of-an-american-in-britain-notes-from-a-small-island-2_277/index.html',\n",
       " 'https://books.toscrape.com/catalogue/neither-here-nor-there-travels-in-europe_198/index.html',\n",
       " 'https://books.toscrape.com/catalogue/1000-places-to-see-before-you-die_1/index.html']"
      ]
     },
     "execution_count": 11,
     "metadata": {},
     "output_type": "execute_result"
    }
   ],
   "source": [
    "#Scraping info of each book and storing into an excel file\n",
    "BooksUrlList = BooksUrlScraper.get_result_similar(TravelCategoryLink) \n",
    "BooksUrlList"
   ]
  },
  {
   "cell_type": "code",
   "execution_count": 12,
   "id": "2c8b92e7",
   "metadata": {},
   "outputs": [],
   "source": [
    "BooksInfoList = []\n",
    "for Url in BooksUrlList:\n",
    "  book_info= BookInfoScraper.get_result_exact(Url)\n",
    "  BooksInfoList.append(book_info)\n",
    "df = pd.DataFrame(BooksInfoList, columns =[\"Book Title\", \"Price\"])\n",
    "df.to_excel(\"BooksInTravelCategory.xlsx\")"
   ]
  },
  {
   "cell_type": "code",
   "execution_count": 13,
   "id": "36b9f16c",
   "metadata": {},
   "outputs": [
    {
     "data": {
      "text/plain": [
       "[[\"It's Only the Himalayas\", '£45.17'],\n",
       " ['Full Moon over Noah’s Ark: An Odyssey to Mount Ararat and Beyond',\n",
       "  '£49.43'],\n",
       " ['See America: A Celebration of Our National Parks & Treasured Sites',\n",
       "  '£48.87'],\n",
       " ['Vagabonding: An Uncommon Guide to the Art of Long-Term World Travel',\n",
       "  '£36.94'],\n",
       " ['Under the Tuscan Sun', '£37.33'],\n",
       " ['A Summer In Europe', '£44.34'],\n",
       " ['The Great Railway Bazaar', '£30.54'],\n",
       " ['A Year in Provence (Provence #1)', '£56.88'],\n",
       " ['The Road to Little Dribbling: Adventures of an American in Britain (Notes From a Small Island #2)',\n",
       "  '£23.21'],\n",
       " ['Neither Here nor There: Travels in Europe', '£38.95'],\n",
       " ['1,000 Places to See Before You Die', '£26.08']]"
      ]
     },
     "execution_count": 13,
     "metadata": {},
     "output_type": "execute_result"
    }
   ],
   "source": [
    "BooksInfoList"
   ]
  }
 ],
 "metadata": {
  "kernelspec": {
   "display_name": "Python 3 (ipykernel)",
   "language": "python",
   "name": "python3"
  },
  "language_info": {
   "codemirror_mode": {
    "name": "ipython",
    "version": 3
   },
   "file_extension": ".py",
   "mimetype": "text/x-python",
   "name": "python",
   "nbconvert_exporter": "python",
   "pygments_lexer": "ipython3",
   "version": "3.10.9"
  }
 },
 "nbformat": 4,
 "nbformat_minor": 5
}
