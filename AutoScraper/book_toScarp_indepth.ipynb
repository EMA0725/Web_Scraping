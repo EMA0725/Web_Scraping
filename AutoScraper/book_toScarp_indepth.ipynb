{
 "cells": [
  {
   "cell_type": "code",
   "execution_count": 4,
   "id": "65e2fb76",
   "metadata": {},
   "outputs": [],
   "source": [
    "from autoscraper import AutoScraper"
   ]
  },
  {
   "cell_type": "code",
   "execution_count": 56,
   "id": "0888c42e",
   "metadata": {},
   "outputs": [],
   "source": [
    "link = 'https://books.toscrape.com'\n",
    "wantedList = ['https://books.toscrape.com/catalogue/category/books/travel_2/index.html']"
   ]
  },
  {
   "cell_type": "code",
   "execution_count": 60,
   "id": "726af318",
   "metadata": {},
   "outputs": [
    {
     "data": {
      "text/plain": [
       "['https://books.toscrape.com/catalogue/category/books/travel_2/index.html',\n",
       " 'https://books.toscrape.com/catalogue/category/books/mystery_3/index.html',\n",
       " 'https://books.toscrape.com/catalogue/category/books/historical-fiction_4/index.html',\n",
       " 'https://books.toscrape.com/catalogue/category/books/sequential-art_5/index.html',\n",
       " 'https://books.toscrape.com/catalogue/category/books/classics_6/index.html',\n",
       " 'https://books.toscrape.com/catalogue/category/books/philosophy_7/index.html',\n",
       " 'https://books.toscrape.com/catalogue/category/books/romance_8/index.html',\n",
       " 'https://books.toscrape.com/catalogue/category/books/womens-fiction_9/index.html',\n",
       " 'https://books.toscrape.com/catalogue/category/books/fiction_10/index.html',\n",
       " 'https://books.toscrape.com/catalogue/category/books/childrens_11/index.html',\n",
       " 'https://books.toscrape.com/catalogue/category/books/religion_12/index.html',\n",
       " 'https://books.toscrape.com/catalogue/category/books/nonfiction_13/index.html',\n",
       " 'https://books.toscrape.com/catalogue/category/books/music_14/index.html',\n",
       " 'https://books.toscrape.com/catalogue/category/books/default_15/index.html',\n",
       " 'https://books.toscrape.com/catalogue/category/books/science-fiction_16/index.html',\n",
       " 'https://books.toscrape.com/catalogue/category/books/sports-and-games_17/index.html',\n",
       " 'https://books.toscrape.com/catalogue/category/books/add-a-comment_18/index.html',\n",
       " 'https://books.toscrape.com/catalogue/category/books/fantasy_19/index.html',\n",
       " 'https://books.toscrape.com/catalogue/category/books/new-adult_20/index.html',\n",
       " 'https://books.toscrape.com/catalogue/category/books/young-adult_21/index.html',\n",
       " 'https://books.toscrape.com/catalogue/category/books/science_22/index.html',\n",
       " 'https://books.toscrape.com/catalogue/category/books/poetry_23/index.html',\n",
       " 'https://books.toscrape.com/catalogue/category/books/paranormal_24/index.html',\n",
       " 'https://books.toscrape.com/catalogue/category/books/art_25/index.html',\n",
       " 'https://books.toscrape.com/catalogue/category/books/psychology_26/index.html',\n",
       " 'https://books.toscrape.com/catalogue/category/books/autobiography_27/index.html',\n",
       " 'https://books.toscrape.com/catalogue/category/books/parenting_28/index.html',\n",
       " 'https://books.toscrape.com/catalogue/category/books/adult-fiction_29/index.html',\n",
       " 'https://books.toscrape.com/catalogue/category/books/humor_30/index.html',\n",
       " 'https://books.toscrape.com/catalogue/category/books/horror_31/index.html',\n",
       " 'https://books.toscrape.com/catalogue/category/books/history_32/index.html',\n",
       " 'https://books.toscrape.com/catalogue/category/books/food-and-drink_33/index.html',\n",
       " 'https://books.toscrape.com/catalogue/category/books/christian-fiction_34/index.html',\n",
       " 'https://books.toscrape.com/catalogue/category/books/business_35/index.html',\n",
       " 'https://books.toscrape.com/catalogue/category/books/biography_36/index.html',\n",
       " 'https://books.toscrape.com/catalogue/category/books/thriller_37/index.html',\n",
       " 'https://books.toscrape.com/catalogue/category/books/contemporary_38/index.html',\n",
       " 'https://books.toscrape.com/catalogue/category/books/spirituality_39/index.html',\n",
       " 'https://books.toscrape.com/catalogue/category/books/academic_40/index.html',\n",
       " 'https://books.toscrape.com/catalogue/category/books/self-help_41/index.html',\n",
       " 'https://books.toscrape.com/catalogue/category/books/historical_42/index.html',\n",
       " 'https://books.toscrape.com/catalogue/category/books/christian_43/index.html',\n",
       " 'https://books.toscrape.com/catalogue/category/books/suspense_44/index.html',\n",
       " 'https://books.toscrape.com/catalogue/category/books/short-stories_45/index.html',\n",
       " 'https://books.toscrape.com/catalogue/category/books/novels_46/index.html',\n",
       " 'https://books.toscrape.com/catalogue/category/books/health_47/index.html',\n",
       " 'https://books.toscrape.com/catalogue/category/books/politics_48/index.html',\n",
       " 'https://books.toscrape.com/catalogue/category/books/cultural_49/index.html',\n",
       " 'https://books.toscrape.com/catalogue/category/books/erotica_50/index.html',\n",
       " 'https://books.toscrape.com/catalogue/category/books/crime_51/index.html']"
      ]
     },
     "execution_count": 60,
     "metadata": {},
     "output_type": "execute_result"
    }
   ],
   "source": [
    "categ_url = AutoScraper() \n",
    "\n",
    "categ_link = categ_url.build(link, wanted_list= wantedList)\n",
    "categ_link\n"
   ]
  },
  {
   "cell_type": "code",
   "execution_count": 61,
   "id": "b57c40f6",
   "metadata": {},
   "outputs": [],
   "source": [
    "link_categ = 'https://books.toscrape.com/catalogue/category/books/travel_2/index.html'\n",
    "wantedList2 = [\"Full Moon over Noah’s Ark: An Odyssey to Mount Ararat and Beyond\", \"£49.43\",\" In stock\"]"
   ]
  },
  {
   "cell_type": "code",
   "execution_count": 62,
   "id": "be365dc3",
   "metadata": {},
   "outputs": [],
   "source": [
    "categ = AutoScraper()"
   ]
  },
  {
   "cell_type": "code",
   "execution_count": 63,
   "id": "00914eca",
   "metadata": {},
   "outputs": [
    {
     "data": {
      "text/plain": [
       "[\"It's Only the Himalayas\",\n",
       " 'Full Moon over Noah’s Ark: An Odyssey to Mount Ararat and Beyond',\n",
       " 'See America: A Celebration of Our National Parks & Treasured Sites',\n",
       " 'Vagabonding: An Uncommon Guide to the Art of Long-Term World Travel',\n",
       " 'Under the Tuscan Sun',\n",
       " 'A Summer In Europe',\n",
       " 'The Great Railway Bazaar',\n",
       " 'A Year in Provence (Provence #1)',\n",
       " 'The Road to Little Dribbling: Adventures of an American in Britain (Notes From a Small Island #2)',\n",
       " 'Neither Here nor There: Travels in Europe',\n",
       " '1,000 Places to See Before You Die',\n",
       " '£45.17',\n",
       " '£49.43',\n",
       " '£48.87',\n",
       " '£36.94',\n",
       " '£37.33',\n",
       " '£44.34',\n",
       " '£30.54',\n",
       " '£56.88',\n",
       " '£23.21',\n",
       " '£38.95',\n",
       " '£26.08',\n",
       " 'In stock']"
      ]
     },
     "execution_count": 63,
     "metadata": {},
     "output_type": "execute_result"
    }
   ],
   "source": [
    "name_price = categ.build(link_categ,wanted_list=wantedList2)\n",
    "name_price"
   ]
  },
  {
   "cell_type": "code",
   "execution_count": 69,
   "id": "667ca019",
   "metadata": {},
   "outputs": [
    {
     "data": {
      "text/plain": [
       "[\"The Most Perfect Thing: Inside (and Outside) a Bird's Egg\",\n",
       " 'Immunity: How Elie Metchnikoff Changed the Course of Modern Medicine',\n",
       " 'Sorting the Beef from the Bull: The Science of Food Fraud Forensics',\n",
       " 'Tipping Point for Planet Earth: How Close Are We to the Edge?',\n",
       " 'The Fabric of the Cosmos: Space, Time, and the Texture of Reality',\n",
       " 'Diary of a Citizen Scientist: Chasing Tiger Beetles and Other New Ways of Engaging the World',\n",
       " 'The Origin of Species',\n",
       " 'The Grand Design',\n",
       " 'Peak: Secrets from the New Science of Expertise',\n",
       " 'The Elegant Universe: Superstrings, Hidden Dimensions, and the Quest for the Ultimate Theory',\n",
       " 'The Disappearing Spoon: And Other True Tales of Madness, Love, and the History of the World from the Periodic Table of the Elements',\n",
       " \"Surely You're Joking, Mr. Feynman!: Adventures of a Curious Character\",\n",
       " 'Seven Brief Lessons on Physics',\n",
       " 'The Selfish Gene',\n",
       " '£42.96',\n",
       " '£57.36',\n",
       " '£44.74',\n",
       " '£37.55',\n",
       " '£55.91',\n",
       " '£28.41',\n",
       " '£10.01',\n",
       " '£13.76',\n",
       " '£16.28',\n",
       " '£13.03',\n",
       " '£57.35',\n",
       " '£25.83',\n",
       " '£30.60',\n",
       " '£29.45',\n",
       " 'In stock']"
      ]
     },
     "execution_count": 69,
     "metadata": {},
     "output_type": "execute_result"
    }
   ],
   "source": [
    "categ.get_result_similar(\"https://books.toscrape.com/catalogue/category/books/science_22/index.html\")"
   ]
  },
  {
   "cell_type": "code",
   "execution_count": null,
   "id": "d5a234db",
   "metadata": {},
   "outputs": [],
   "source": []
  }
 ],
 "metadata": {
  "kernelspec": {
   "display_name": "Python 3",
   "language": "python",
   "name": "python3"
  },
  "language_info": {
   "codemirror_mode": {
    "name": "ipython",
    "version": 3
   },
   "file_extension": ".py",
   "mimetype": "text/x-python",
   "name": "python",
   "nbconvert_exporter": "python",
   "pygments_lexer": "ipython3",
   "version": "3.8.8"
  }
 },
 "nbformat": 4,
 "nbformat_minor": 5
}
